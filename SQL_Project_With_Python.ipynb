{
 "cells": [
  {
   "cell_type": "markdown",
   "id": "81f3f8ee",
   "metadata": {},
   "source": [
    "# Bank Management System with Python"
   ]
  },
  {
   "cell_type": "markdown",
   "id": "c52bdbcd",
   "metadata": {},
   "source": [
    "#### import mysql.connector"
   ]
  },
  {
   "cell_type": "code",
   "execution_count": 1,
   "id": "17568005",
   "metadata": {},
   "outputs": [],
   "source": [
    "import mysql.connector as c"
   ]
  },
  {
   "cell_type": "markdown",
   "id": "9c86bf47",
   "metadata": {},
   "source": [
    "#### Connect with mysql database"
   ]
  },
  {
   "cell_type": "code",
   "execution_count": 2,
   "id": "e9776819",
   "metadata": {},
   "outputs": [
    {
     "name": "stdout",
     "output_type": "stream",
     "text": [
      "Successfully connected\n"
     ]
    }
   ],
   "source": [
    "db = c.connect(host=\"localhost\",user=\"root\",password=\"Nb123@\",auth_plugin='mysql_native_password')\n",
    "#check for connection\n",
    "if db.is_connected():\n",
    "    print(\"Successfully connected\")\n",
    "else:\n",
    "    print(\"Not connected\")"
   ]
  },
  {
   "cell_type": "markdown",
   "id": "735a63ce",
   "metadata": {},
   "source": [
    "#### Make cursor to execute SQL query"
   ]
  },
  {
   "cell_type": "code",
   "execution_count": 3,
   "id": "5aa95ab2",
   "metadata": {},
   "outputs": [],
   "source": [
    "curr = db.cursor()"
   ]
  },
  {
   "cell_type": "markdown",
   "id": "eb0765eb",
   "metadata": {},
   "source": [
    "#### Create database name with Bank_management"
   ]
  },
  {
   "cell_type": "code",
   "execution_count": 5,
   "id": "c00b7fd4",
   "metadata": {},
   "outputs": [],
   "source": [
    "curr.execute(\"Create database Bank_management\")"
   ]
  },
  {
   "cell_type": "markdown",
   "id": "3681a943",
   "metadata": {},
   "source": [
    "#### Create two tables Bank_Account and Bank_Amount"
   ]
  },
  {
   "cell_type": "code",
   "execution_count": 8,
   "id": "2f5e019b",
   "metadata": {},
   "outputs": [],
   "source": [
    "curr.execute(\"Use Bank_management\")\n",
    "curr.execute(\"Create table Bank_Account(User_Accountno varchar(15) primary key,User_Name varchar(30),DOB varchar(10),Address varchar(50),Phone_no varchar(10),Opening_balance int)\")"
   ]
  },
  {
   "cell_type": "code",
   "execution_count": 11,
   "id": "de7d2f1b",
   "metadata": {},
   "outputs": [],
   "source": [
    "curr.execute(\"Create table Bank_Amount(User_Accountno varchar(15) primary key,User_Name varchar(30), Balance int)\")"
   ]
  },
  {
   "cell_type": "markdown",
   "id": "0e162131",
   "metadata": {},
   "source": [
    "#### Make functions for Bank like - \n",
    "1.open_Account, 2.deposit_amount, 3.withdraw_amount, 4.check_balance, 5.display details of user, 6.close an account "
   ]
  },
  {
   "cell_type": "code",
   "execution_count": 7,
   "id": "2331ed95",
   "metadata": {},
   "outputs": [
    {
     "name": "stdout",
     "output_type": "stream",
     "text": [
      "\n",
      "    1.Open New Account\n",
      "    2.deposit account\n",
      "    3.withdraw amount\n",
      "    4.balance check\n",
      "    5.display details of user\n",
      "    6.close an account\n",
      "    \n",
      "Enter Task number: 1\n",
      "Enter name:Divya\n",
      "Enter account no:2001546723\n",
      "Enter DOB:09/01/2000\n",
      "Enter address:Delhi\n",
      "Enter phone:7054340760\n",
      "Enter opening balance:2000\n",
      "Data Entered successfully\n",
      "\n",
      "    1.Open New Account\n",
      "    2.deposit account\n",
      "    3.withdraw amount\n",
      "    4.balance check\n",
      "    5.display details of user\n",
      "    6.close an account\n",
      "    \n",
      "Enter Task number: 2\n",
      "Enter amount:1000\n",
      "Enter account no:2001546723\n",
      "\n",
      "    1.Open New Account\n",
      "    2.deposit account\n",
      "    3.withdraw amount\n",
      "    4.balance check\n",
      "    5.display details of user\n",
      "    6.close an account\n",
      "    \n",
      "Enter Task number: 7\n",
      "Give Wrong input please enter right input\n"
     ]
    }
   ],
   "source": [
    "def open_account():\n",
    "    name = input(\"Enter name:\")\n",
    "    account_no = input(\"Enter account no:\")\n",
    "    dob = input(\"Enter DOB:\")\n",
    "    address = input(\"Enter address:\")\n",
    "    phone = input(\"Enter phone:\")\n",
    "    open_bal = int(input(\"Enter opening balance:\"))\n",
    "    data1 = (account_no,name,dob,address,phone,open_bal)\n",
    "    data2 = (account_no,name,open_bal)\n",
    "    sql1 = \"insert into Bank_Account values(%s,%s,%s,%s,%s,%s)\"\n",
    "    sql2 = \"insert into Bank_Amount values(%s,%s,%s)\" \n",
    "    curr = db.cursor()\n",
    "    curr.execute(sql1,data1)\n",
    "    curr.execute(sql2,data2)\n",
    "    db.commit()\n",
    "    print(\"Data Entered successfully\")\n",
    "    main_program()\n",
    "\n",
    "def deposit_amount():\n",
    "    amount = int(input(\"Enter amount:\"))   \n",
    "    an = input(\"Enter account no:\")\n",
    "    a = \"select balance from Bank_Amount where User_Accountno=%s\"\n",
    "    data = (an,)\n",
    "    curr = db.cursor()\n",
    "    curr.execute(a,data)\n",
    "    result = curr.fetchone()\n",
    "    t = result[0]+amount\n",
    "    sql = \"update Bank_Amount set balance=%s where User_Accountno=%s\"\n",
    "    data = (t,an)\n",
    "    curr.execute(sql,data)\n",
    "    db.commit()\n",
    "    main_program()\n",
    "\n",
    "def withdraw_amount():\n",
    "    amount = int(input(\"Enter amount:\"))   \n",
    "    an = input(\"Enter account no:\")\n",
    "    a = \"select balance from Bank_Amount where User_Accountno=%s\"\n",
    "    data = (an,)\n",
    "    curr = db.cursor()\n",
    "    curr.execute(a,data)\n",
    "    result = curr.fetchone()\n",
    "    t = result[0]-amount\n",
    "    sql = \"update Bank_Amount set balance=%s where User_Accountno=%s\"\n",
    "    data = (t,an)\n",
    "    curr.execute(sql,data)\n",
    "    db.commit()\n",
    "    main_program()\n",
    "    \n",
    "    \n",
    "#ac = account_number \n",
    "def check_balance():\n",
    "    ac = input(\"Enter account no:\")\n",
    "    a = \"select balance from Bank_Amount where User_Accountno=%s\"\n",
    "    data = (ac,)\n",
    "    curr = db.cursor()\n",
    "    curr.execute(a,data)\n",
    "    result = curr.fetchone()\n",
    "    print(\"Balance for Account:\",ac,\"is\",result[0])\n",
    "    main_program()\n",
    "\n",
    "\n",
    "\n",
    "def display_user_details():\n",
    "    ac = input(\"Enter account no:\")\n",
    "    a = \"select * from Bank_Amount where User_Accountno=%s\"\n",
    "    data = (ac,)\n",
    "    curr = db.cursor()\n",
    "    curr.execute(a,data)\n",
    "    result = curr.fetchone()\n",
    "    for i in result:\n",
    "        print(i,end=\" \")  \n",
    "    main_program()\n",
    "\n",
    "\n",
    "def close_account():\n",
    "    ac = input(\"Enter account no:\")\n",
    "    sql1 = \"delete from Bank_Account where User_Accountno=%s\"\n",
    "    sql2= \"delete from Bank_Amount where User_Accountno=%s\"\n",
    "    data = (ac,)\n",
    "    curr = db.cursor()\n",
    "    curr.execute(sql1,data)\n",
    "    curr.execute(sql2,data)\n",
    "    db.commit()\n",
    "    main_program()\n",
    "    \n",
    "def main_program():\n",
    "    print(\"\"\"\n",
    "    1.Open New Account\n",
    "    2.deposit account\n",
    "    3.withdraw amount\n",
    "    4.balance check\n",
    "    5.display details of user\n",
    "    6.close an account\n",
    "    \"\"\")\n",
    "    choice = int(input(\"Enter Task number: \"))\n",
    "    if(choice==1):\n",
    "        open_account()\n",
    "    elif(choice==2):\n",
    "        deposit_amount()\n",
    "    elif(choice==3):\n",
    "        withdraw_amount()\n",
    "    elif(choice==4):\n",
    "        check_balance()\n",
    "    elif(choice==5):\n",
    "        display_user_details()\n",
    "    elif(choice==6):\n",
    "        close_account()\n",
    "    else:\n",
    "        print(\"Give Wrong input please enter right input\")\n",
    "main_program()"
   ]
  },
  {
   "cell_type": "markdown",
   "id": "e31513d2",
   "metadata": {},
   "source": [
    "#### To show all results from first table and second table "
   ]
  },
  {
   "cell_type": "code",
   "execution_count": 8,
   "id": "a70ac55b",
   "metadata": {},
   "outputs": [
    {
     "name": "stdout",
     "output_type": "stream",
     "text": [
      "('200133567234', 'Rohan', '07/02/2005', 'Agra', '6394346722', 2000)\n",
      "('2001546723', 'Divya', '09/01/2000', 'Delhi', '7054340760', 2000)\n",
      "('40226818567', 'Nisha', '08/03/2002', 'Greater Noida', '7054367234', 1000)\n"
     ]
    }
   ],
   "source": [
    "curr.execute(\"select * from Bank_Account\")\n",
    "for i in curr:\n",
    "    print(i)"
   ]
  },
  {
   "cell_type": "code",
   "execution_count": 9,
   "id": "59eb4da5",
   "metadata": {},
   "outputs": [
    {
     "name": "stdout",
     "output_type": "stream",
     "text": [
      "('200133567234', 'Rohan', 2000)\n",
      "('2001546723', 'Divya', 3000)\n",
      "('40226818567', 'Nisha', 1000)\n"
     ]
    }
   ],
   "source": [
    "curr.execute(\"select * from Bank_Amount\")\n",
    "for i in curr:\n",
    "    print(i)"
   ]
  },
  {
   "cell_type": "markdown",
   "id": "c47cd4a5",
   "metadata": {},
   "source": [
    "#### Withdraw amount from any account "
   ]
  },
  {
   "cell_type": "code",
   "execution_count": 10,
   "id": "56b74cda",
   "metadata": {},
   "outputs": [
    {
     "name": "stdout",
     "output_type": "stream",
     "text": [
      "\n",
      "    1.Open New Account\n",
      "    2.deposit account\n",
      "    3.withdraw amount\n",
      "    4.balance check\n",
      "    5.display details of user\n",
      "    6.close an account\n",
      "    \n",
      "Enter Task number: 3\n",
      "Enter amount:500\n",
      "Enter account no:2001546723\n",
      "\n",
      "    1.Open New Account\n",
      "    2.deposit account\n",
      "    3.withdraw amount\n",
      "    4.balance check\n",
      "    5.display details of user\n",
      "    6.close an account\n",
      "    \n",
      "Enter Task number: 7\n",
      "Give Wrong input please enter right input\n"
     ]
    }
   ],
   "source": [
    "main_program()"
   ]
  },
  {
   "cell_type": "markdown",
   "id": "141857ba",
   "metadata": {},
   "source": [
    "#### After withdraw result"
   ]
  },
  {
   "cell_type": "code",
   "execution_count": 11,
   "id": "23899bf5",
   "metadata": {},
   "outputs": [
    {
     "name": "stdout",
     "output_type": "stream",
     "text": [
      "('200133567234', 'Rohan', 2000)\n",
      "('2001546723', 'Divya', 2500)\n",
      "('40226818567', 'Nisha', 1000)\n"
     ]
    }
   ],
   "source": [
    "curr.execute(\"select * from Bank_Amount\")\n",
    "for i in curr:\n",
    "    print(i)"
   ]
  },
  {
   "cell_type": "markdown",
   "id": "5c84ccaf",
   "metadata": {},
   "source": [
    "#### Check balance"
   ]
  },
  {
   "cell_type": "code",
   "execution_count": 12,
   "id": "4abce32f",
   "metadata": {},
   "outputs": [
    {
     "name": "stdout",
     "output_type": "stream",
     "text": [
      "\n",
      "    1.Open New Account\n",
      "    2.deposit account\n",
      "    3.withdraw amount\n",
      "    4.balance check\n",
      "    5.display details of user\n",
      "    6.close an account\n",
      "    \n",
      "Enter Task number: 4\n",
      "Enter account no:2001546723\n",
      "Balance for Account: 2001546723 is 2500\n",
      "\n",
      "    1.Open New Account\n",
      "    2.deposit account\n",
      "    3.withdraw amount\n",
      "    4.balance check\n",
      "    5.display details of user\n",
      "    6.close an account\n",
      "    \n",
      "Enter Task number: 7\n",
      "Give Wrong input please enter right input\n"
     ]
    }
   ],
   "source": [
    "main_program()"
   ]
  },
  {
   "cell_type": "markdown",
   "id": "512afc8a",
   "metadata": {},
   "source": [
    "#### Display details of user"
   ]
  },
  {
   "cell_type": "code",
   "execution_count": 14,
   "id": "37a49456",
   "metadata": {},
   "outputs": [
    {
     "name": "stdout",
     "output_type": "stream",
     "text": [
      "\n",
      "    1.Open New Account\n",
      "    2.deposit account\n",
      "    3.withdraw amount\n",
      "    4.balance check\n",
      "    5.display details of user\n",
      "    6.close an account\n",
      "    \n",
      "Enter Task number: 5\n",
      "Enter account no:2001546723\n",
      "2001546723 Divya 2500 \n",
      "    1.Open New Account\n",
      "    2.deposit account\n",
      "    3.withdraw amount\n",
      "    4.balance check\n",
      "    5.display details of user\n",
      "    6.close an account\n",
      "    \n",
      "Enter Task number: 7\n",
      "Give Wrong input please enter right input\n"
     ]
    }
   ],
   "source": [
    "main_program()"
   ]
  },
  {
   "cell_type": "markdown",
   "id": "2fc14553",
   "metadata": {},
   "source": [
    "#### Close account"
   ]
  },
  {
   "cell_type": "code",
   "execution_count": 15,
   "id": "98a9e2a4",
   "metadata": {},
   "outputs": [
    {
     "name": "stdout",
     "output_type": "stream",
     "text": [
      "\n",
      "    1.Open New Account\n",
      "    2.deposit account\n",
      "    3.withdraw amount\n",
      "    4.balance check\n",
      "    5.display details of user\n",
      "    6.close an account\n",
      "    \n",
      "Enter Task number: 6\n",
      "Enter account no:2001546723\n",
      "\n",
      "    1.Open New Account\n",
      "    2.deposit account\n",
      "    3.withdraw amount\n",
      "    4.balance check\n",
      "    5.display details of user\n",
      "    6.close an account\n",
      "    \n",
      "Enter Task number: 7\n",
      "Give Wrong input please enter right input\n"
     ]
    }
   ],
   "source": [
    "main_program()"
   ]
  },
  {
   "cell_type": "markdown",
   "id": "64c77be5",
   "metadata": {},
   "source": [
    "#### show result after close account"
   ]
  },
  {
   "cell_type": "code",
   "execution_count": 16,
   "id": "4d0d2657",
   "metadata": {},
   "outputs": [
    {
     "name": "stdout",
     "output_type": "stream",
     "text": [
      "('200133567234', 'Rohan', 2000)\n",
      "('40226818567', 'Nisha', 1000)\n"
     ]
    }
   ],
   "source": [
    "curr.execute(\"select * from Bank_Amount\")\n",
    "for i in curr:\n",
    "    print(i)"
   ]
  },
  {
   "cell_type": "markdown",
   "id": "f1c7550b",
   "metadata": {},
   "source": [
    "#### Show table"
   ]
  },
  {
   "cell_type": "code",
   "execution_count": 17,
   "id": "3c037ddb",
   "metadata": {},
   "outputs": [
    {
     "name": "stdout",
     "output_type": "stream",
     "text": [
      "('bank_account',)\n",
      "('bank_amount',)\n"
     ]
    }
   ],
   "source": [
    "curr = db.cursor()\n",
    "curr.execute(\"show tables\")\n",
    "for i in curr:\n",
    "    print(i)"
   ]
  }
 ],
 "metadata": {
  "kernelspec": {
   "display_name": "Python 3 (ipykernel)",
   "language": "python",
   "name": "python3"
  },
  "language_info": {
   "codemirror_mode": {
    "name": "ipython",
    "version": 3
   },
   "file_extension": ".py",
   "mimetype": "text/x-python",
   "name": "python",
   "nbconvert_exporter": "python",
   "pygments_lexer": "ipython3",
   "version": "3.9.7"
  }
 },
 "nbformat": 4,
 "nbformat_minor": 5
}
